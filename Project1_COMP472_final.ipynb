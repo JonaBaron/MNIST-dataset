{
  "nbformat": 4,
  "nbformat_minor": 0,
  "metadata": {
    "colab": {
      "provenance": [],
      "authorship_tag": "ABX9TyNs8tEzsbvFVjSb6ORKL/9a",
      "include_colab_link": true
    },
    "kernelspec": {
      "name": "python3",
      "display_name": "Python 3"
    },
    "language_info": {
      "name": "python"
    }
  },
  "cells": [
    {
      "cell_type": "markdown",
      "metadata": {
        "id": "view-in-github",
        "colab_type": "text"
      },
      "source": [
        "<a href=\"https://colab.research.google.com/github/JonaBaron/MNIST-dataset/blob/main/Project1_COMP472_final.ipynb\" target=\"_parent\"><img src=\"https://colab.research.google.com/assets/colab-badge.svg\" alt=\"Open In Colab\"/></a>"
      ]
    },
    {
      "cell_type": "markdown",
      "source": [
        "#Project 1\n",
        "In this project, you will develop a machine learning app that classifies handwritten digits (0–9) from the\n",
        "MNIST dataset. You will need to use at least 2 libraries:\n",
        "1. NumPy for data exploration and manipulation.\n",
        "2. scikit-learn to build a simple baseline model using logistic regression"
      ],
      "metadata": {
        "id": "fGe11h_nXakh"
      }
    },
    {
      "cell_type": "markdown",
      "source": [
        "##Import the data"
      ],
      "metadata": {
        "id": "h3JbPD8igWZ8"
      }
    },
    {
      "cell_type": "code",
      "execution_count": 191,
      "metadata": {
        "id": "pcGCx8IdXV0R"
      },
      "outputs": [],
      "source": [
        "import numpy as np\n",
        "import matplotlib.pyplot as plt\n",
        "\n",
        "from sklearn import datasets, metrics, svm\n",
        "from sklearn.model_selection import train_test_split"
      ]
    },
    {
      "cell_type": "code",
      "source": [
        "digits = datasets.load_digits()"
      ],
      "metadata": {
        "id": "BVANzcEHvRRh"
      },
      "execution_count": 192,
      "outputs": []
    },
    {
      "cell_type": "markdown",
      "source": [
        "##Visualize the data"
      ],
      "metadata": {
        "id": "S6JWW3EuYm5Y"
      }
    },
    {
      "cell_type": "code",
      "source": [
        "digits.images.shape"
      ],
      "metadata": {
        "colab": {
          "base_uri": "https://localhost:8080/"
        },
        "id": "baAXo9Hwv15o",
        "outputId": "e323be9a-2fd2-434c-df81-ff14235b1b1f"
      },
      "execution_count": 193,
      "outputs": [
        {
          "output_type": "execute_result",
          "data": {
            "text/plain": [
              "(1797, 8, 8)"
            ]
          },
          "metadata": {},
          "execution_count": 193
        }
      ]
    },
    {
      "cell_type": "code",
      "source": [
        "for i in range(10):\n",
        "    plt.subplot(2, 5, i+1)\n",
        "    plt.imshow(digits.images[i])\n",
        "    plt.title(digits.feature_names[i][-1])\n",
        "    plt.xticks([])\n",
        "    plt.yticks([])\n",
        "plt.show()"
      ],
      "metadata": {
        "colab": {
          "base_uri": "https://localhost:8080/",
          "height": 346
        },
        "id": "gEHvEtpNYyNU",
        "outputId": "62460c73-0bba-47e7-ea07-e8177dafd73e"
      },
      "execution_count": 194,
      "outputs": [
        {
          "output_type": "display_data",
          "data": {
            "text/plain": [
              "<Figure size 640x480 with 10 Axes>"
            ],
            "image/png": "[encoded data removed]"
          },
          "metadata": {}
        }
      ]
    },
    {
      "cell_type": "markdown",
      "source": [
        "##Reshape(normalize) the data and create the model"
      ],
      "metadata": {
        "id": "0Wve7NtUcIVs"
      }
    },
    {
      "cell_type": "markdown",
      "source": [
        "##Looking at the variables"
      ],
      "metadata": {
        "id": "3aM7XI5J2DaI"
      }
    },
    {
      "cell_type": "code",
      "source": [
        "digits.images"
      ],
      "metadata": {
        "colab": {
          "base_uri": "https://localhost:8080/"
        },
        "id": "XNe2f0VKyBxB",
        "outputId": "9bfc0bf0-88d4-4c0f-e668-c057a15a1240"
      },
      "execution_count": 195,
      "outputs": [
        {
          "output_type": "execute_result",
          "data": {
            "text/plain": [
              "array([[[ 0.,  0.,  5., ...,  1.,  0.,  0.],\n",
              "        [ 0.,  0., 13., ..., 15.,  5.,  0.],\n",
              "        [ 0.,  3., 15., ..., 11.,  8.,  0.],\n",
              "        ...,\n",
              "        [ 0.,  4., 11., ..., 12.,  7.,  0.],\n",
              "        [ 0.,  2., 14., ..., 12.,  0.,  0.],\n",
              "        [ 0.,  0.,  6., ...,  0.,  0.,  0.]],\n",
              "\n",
              "       [[ 0.,  0.,  0., ...,  5.,  0.,  0.],\n",
              "        [ 0.,  0.,  0., ...,  9.,  0.,  0.],\n",
              "        [ 0.,  0.,  3., ...,  6.,  0.,  0.],\n",
              "        ...,\n",
              "        [ 0.,  0.,  1., ...,  6.,  0.,  0.],\n",
              "        [ 0.,  0.,  1., ...,  6.,  0.,  0.],\n",
              "        [ 0.,  0.,  0., ..., 10.,  0.,  0.]],\n",
              "\n",
              "       [[ 0.,  0.,  0., ..., 12.,  0.,  0.],\n",
              "        [ 0.,  0.,  3., ..., 14.,  0.,  0.],\n",
              "        [ 0.,  0.,  8., ..., 16.,  0.,  0.],\n",
              "        ...,\n",
              "        [ 0.,  9., 16., ...,  0.,  0.,  0.],\n",
              "        [ 0.,  3., 13., ..., 11.,  5.,  0.],\n",
              "        [ 0.,  0.,  0., ..., 16.,  9.,  0.]],\n",
              "\n",
              "       ...,\n",
              "\n",
              "       [[ 0.,  0.,  1., ...,  1.,  0.,  0.],\n",
              "        [ 0.,  0., 13., ...,  2.,  1.,  0.],\n",
              "        [ 0.,  0., 16., ..., 16.,  5.,  0.],\n",
              "        ...,\n",
              "        [ 0.,  0., 16., ..., 15.,  0.,  0.],\n",
              "        [ 0.,  0., 15., ..., 16.,  0.,  0.],\n",
              "        [ 0.,  0.,  2., ...,  6.,  0.,  0.]],\n",
              "\n",
              "       [[ 0.,  0.,  2., ...,  0.,  0.,  0.],\n",
              "        [ 0.,  0., 14., ..., 15.,  1.,  0.],\n",
              "        [ 0.,  4., 16., ..., 16.,  7.,  0.],\n",
              "        ...,\n",
              "        [ 0.,  0.,  0., ..., 16.,  2.,  0.],\n",
              "        [ 0.,  0.,  4., ..., 16.,  2.,  0.],\n",
              "        [ 0.,  0.,  5., ..., 12.,  0.,  0.]],\n",
              "\n",
              "       [[ 0.,  0., 10., ...,  1.,  0.,  0.],\n",
              "        [ 0.,  2., 16., ...,  1.,  0.,  0.],\n",
              "        [ 0.,  0., 15., ..., 15.,  0.,  0.],\n",
              "        ...,\n",
              "        [ 0.,  4., 16., ..., 16.,  6.,  0.],\n",
              "        [ 0.,  8., 16., ..., 16.,  8.,  0.],\n",
              "        [ 0.,  1.,  8., ..., 12.,  1.,  0.]]])"
            ]
          },
          "metadata": {},
          "execution_count": 195
        }
      ]
    },
    {
      "cell_type": "code",
      "source": [
        "label_unique = np.unique(digits.target)\n",
        "label_unique"
      ],
      "metadata": {
        "colab": {
          "base_uri": "https://localhost:8080/"
        },
        "id": "9ZQtmnFPyF98",
        "outputId": "2cc96584-cb59-41c2-aeea-7939e56a95c8"
      },
      "execution_count": 196,
      "outputs": [
        {
          "output_type": "execute_result",
          "data": {
            "text/plain": [
              "array([0, 1, 2, 3, 4, 5, 6, 7, 8, 9])"
            ]
          },
          "metadata": {},
          "execution_count": 196
        }
      ]
    },
    {
      "cell_type": "code",
      "source": [
        "n_samples = len(digits.images)\n",
        "data = digits.images.reshape((n_samples, -1))"
      ],
      "metadata": {
        "id": "mifRweZgxpMv"
      },
      "execution_count": 197,
      "outputs": []
    },
    {
      "cell_type": "code",
      "source": [
        "digits.images.shape"
      ],
      "metadata": {
        "colab": {
          "base_uri": "https://localhost:8080/"
        },
        "id": "Uafq67MoydcL",
        "outputId": "c7a552e5-3a28-4268-8958-3e9349bb4a12"
      },
      "execution_count": 198,
      "outputs": [
        {
          "output_type": "execute_result",
          "data": {
            "text/plain": [
              "(1797, 8, 8)"
            ]
          },
          "metadata": {},
          "execution_count": 198
        }
      ]
    },
    {
      "cell_type": "code",
      "source": [
        "n_samples,data"
      ],
      "metadata": {
        "colab": {
          "base_uri": "https://localhost:8080/"
        },
        "id": "qxL7KkGRx9f1",
        "outputId": "5629e033-e1ba-4ad5-863f-a87c9c659b47"
      },
      "execution_count": 199,
      "outputs": [
        {
          "output_type": "execute_result",
          "data": {
            "text/plain": [
              "(1797,\n",
              " array([[ 0.,  0.,  5., ...,  0.,  0.,  0.],\n",
              "        [ 0.,  0.,  0., ..., 10.,  0.,  0.],\n",
              "        [ 0.,  0.,  0., ..., 16.,  9.,  0.],\n",
              "        ...,\n",
              "        [ 0.,  0.,  1., ...,  6.,  0.,  0.],\n",
              "        [ 0.,  0.,  2., ..., 12.,  0.,  0.],\n",
              "        [ 0.,  0., 10., ..., 12.,  1.,  0.]]))"
            ]
          },
          "metadata": {},
          "execution_count": 199
        }
      ]
    },
    {
      "cell_type": "code",
      "source": [
        "data.shape"
      ],
      "metadata": {
        "colab": {
          "base_uri": "https://localhost:8080/"
        },
        "id": "wdNk9wW7ybX4",
        "outputId": "cd8ee5ed-186f-43a0-a48f-8ebe669438ac"
      },
      "execution_count": 200,
      "outputs": [
        {
          "output_type": "execute_result",
          "data": {
            "text/plain": [
              "(1797, 64)"
            ]
          },
          "metadata": {},
          "execution_count": 200
        }
      ]
    },
    {
      "cell_type": "markdown",
      "source": [
        "##Split the data\n",
        "\n",
        "\n",
        "*   80% for training\n",
        "*   20% for testing\n",
        "\n"
      ],
      "metadata": {
        "id": "KlNqecHX2Nx5"
      }
    },
    {
      "cell_type": "code",
      "source": [
        "x_train, x_test, y_train, y_test = train_test_split(\n",
        "    data, digits.target, test_size=0.2, shuffle=False)"
      ],
      "metadata": {
        "id": "TISce1pGxnGQ"
      },
      "execution_count": 201,
      "outputs": []
    },
    {
      "cell_type": "code",
      "source": [
        "x_train.shape, x_test.shape, round(1797*0.8), round(1797*0.2)"
      ],
      "metadata": {
        "id": "RDpg-eHf2Zex",
        "outputId": "7b1700fe-ee23-45e5-9480-af49f266be84",
        "colab": {
          "base_uri": "https://localhost:8080/"
        }
      },
      "execution_count": 202,
      "outputs": [
        {
          "output_type": "execute_result",
          "data": {
            "text/plain": [
              "((1437, 64), (360, 64), 1438, 359)"
            ]
          },
          "metadata": {},
          "execution_count": 202
        }
      ]
    },
    {
      "cell_type": "markdown",
      "source": [
        "##Scaling normalizes the data"
      ],
      "metadata": {
        "id": "tEpnYKXo3Hrh"
      }
    },
    {
      "cell_type": "code",
      "source": [
        "np.unique(x_train[0]) ##Scale of 0 to 15"
      ],
      "metadata": {
        "id": "KUUuXoqB04Aq",
        "outputId": "a7fb273e-c1c8-4335-e171-873e88daf44f",
        "colab": {
          "base_uri": "https://localhost:8080/"
        }
      },
      "execution_count": 203,
      "outputs": [
        {
          "output_type": "execute_result",
          "data": {
            "text/plain": [
              "array([ 0.,  1.,  2.,  3.,  4.,  5.,  6.,  7.,  8.,  9., 10., 11., 12.,\n",
              "       13., 14., 15.])"
            ]
          },
          "metadata": {},
          "execution_count": 203
        }
      ]
    },
    {
      "cell_type": "code",
      "source": [
        "from sklearn.preprocessing import StandardScaler\n",
        "\n",
        "# Scale the data\n",
        "scaler = StandardScaler()\n",
        "x_train_scaled = scaler.fit_transform(x_train) ## Scale train\n",
        "x_test_scaled = scaler.transform(x_test) ##Scale test"
      ],
      "metadata": {
        "id": "-QfncDhU0knZ"
      },
      "execution_count": 204,
      "outputs": []
    },
    {
      "cell_type": "code",
      "source": [
        "x_train.shape, x_train_scaled.shape"
      ],
      "metadata": {
        "id": "TYbF1D4c07Db",
        "outputId": "d9468d40-f2db-42bd-ef01-d4c26d614c8b",
        "colab": {
          "base_uri": "https://localhost:8080/"
        }
      },
      "execution_count": 205,
      "outputs": [
        {
          "output_type": "execute_result",
          "data": {
            "text/plain": [
              "((1437, 64), (1437, 64))"
            ]
          },
          "metadata": {},
          "execution_count": 205
        }
      ]
    },
    {
      "cell_type": "code",
      "source": [
        "np.unique(x_train_scaled[0])"
      ],
      "metadata": {
        "id": "soDMxU6p09bH",
        "outputId": "9ce2c89b-d14b-4f4f-9f9c-0abb4cf27491",
        "colab": {
          "base_uri": "https://localhost:8080/"
        }
      },
      "execution_count": 206,
      "outputs": [
        {
          "output_type": "execute_result",
          "data": {
            "text/plain": [
              "array([-1.73928092, -1.62523622, -1.48142464, -1.4332488 , -1.1741969 ,\n",
              "       -1.14356326, -1.10645423, -1.05144093, -0.87029728, -0.8537416 ,\n",
              "       -0.82536045, -0.76375874, -0.71421442, -0.63568186, -0.52687507,\n",
              "       -0.41675162, -0.41006063, -0.33165896, -0.30167492, -0.22542432,\n",
              "       -0.21441553, -0.13864086, -0.13381696, -0.12274266, -0.09224992,\n",
              "       -0.06609341, -0.05995125, -0.05806465, -0.0528332 , -0.04991522,\n",
              "       -0.03963009, -0.03733267, -0.03716776, -0.02638899,  0.        ,\n",
              "        0.04759885,  0.05343504,  0.08955416,  0.09149338,  0.09321053,\n",
              "        0.14662408,  0.20563552,  0.28417793,  0.46875645,  0.47408023,\n",
              "        0.4787287 ,  0.52361448,  0.57008846,  0.6325467 ,  0.67377143,\n",
              "        0.70258091,  0.78015872,  0.78503835,  0.80147041,  0.83562121,\n",
              "        0.85327807,  0.90303925,  1.10694541,  1.14756698,  1.46235249,\n",
              "        1.53110302,  1.82499316])"
            ]
          },
          "metadata": {},
          "execution_count": 206
        }
      ]
    },
    {
      "cell_type": "markdown",
      "source": [
        "##Model creation"
      ],
      "metadata": {
        "id": "L0b1GJRF3U3M"
      }
    },
    {
      "cell_type": "code",
      "source": [
        "from sklearn.linear_model import LogisticRegression\n",
        "\n",
        "model = LogisticRegression(random_state=16)\n",
        "model.fit(x_train_scaled, y_train)\n",
        "y_pred = model.predict(x_test_scaled)"
      ],
      "metadata": {
        "id": "8jGtVd9vaUb8"
      },
      "execution_count": 207,
      "outputs": []
    },
    {
      "cell_type": "markdown",
      "source": [
        "##Visualize the prediction"
      ],
      "metadata": {
        "id": "P_MEXOD2giua"
      }
    },
    {
      "cell_type": "code",
      "source": [
        "import seaborn as sns\n",
        "import matplotlib.pyplot as plt\n",
        "from sklearn import metrics\n",
        "\n",
        "cnf_matrix = metrics.confusion_matrix(y_test, y_pred)\n",
        "plt.figure(figsize=(8, 6))\n",
        "sns.heatmap(cnf_matrix, annot=True, fmt='d', cmap='Blues',\n",
        "            xticklabels=label_unique, yticklabels=label_unique)\n",
        "plt.title('Confusion matrix')\n",
        "plt.xlabel('Predicted label')\n",
        "plt.ylabel('True label')\n",
        "plt.show()"
      ],
      "metadata": {
        "colab": {
          "base_uri": "https://localhost:8080/",
          "height": 564
        },
        "id": "NHdbhK_wcJJ6",
        "outputId": "6fe6f2a4-1552-4944-f56a-8d78ce00fd76"
      },
      "execution_count": 208,
      "outputs": [
        {
          "output_type": "display_data",
          "data": {
            "text/plain": [
              "<Figure size 800x600 with 2 Axes>"
            ],
            "image/png": "[encoded data removed]"
          },
          "metadata": {}
        }
      ]
    },
    {
      "cell_type": "markdown",
      "source": [
        "##See the metrics to see the model accuracy"
      ],
      "metadata": {
        "id": "WUklnzJpgqaT"
      }
    },
    {
      "cell_type": "code",
      "source": [
        "from sklearn.metrics import classification_report\n",
        "import pandas as pd\n",
        "\n",
        "target_names = pd.Series(label_unique).astype(str)\n",
        "print(classification_report(y_test, y_pred, target_names=target_names))"
      ],
      "metadata": {
        "colab": {
          "base_uri": "https://localhost:8080/"
        },
        "id": "2DcgDDOzcyOl",
        "outputId": "3fd5071a-7980-4e69-b0de-7c5dbfcae3ba"
      },
      "execution_count": 209,
      "outputs": [
        {
          "output_type": "stream",
          "name": "stdout",
          "text": [
            "              precision    recall  f1-score   support\n",
            "\n",
            "           0       1.00      0.94      0.97        35\n",
            "           1       0.83      0.81      0.82        36\n",
            "           2       1.00      0.97      0.99        35\n",
            "           3       0.89      0.68      0.77        37\n",
            "           4       0.97      0.92      0.94        37\n",
            "           5       0.90      0.97      0.94        37\n",
            "           6       0.97      0.97      0.97        37\n",
            "           7       0.89      0.94      0.92        36\n",
            "           8       0.78      0.88      0.83        33\n",
            "           9       0.77      0.89      0.82        37\n",
            "\n",
            "    accuracy                           0.90       360\n",
            "   macro avg       0.90      0.90      0.90       360\n",
            "weighted avg       0.90      0.90      0.90       360\n",
            "\n"
          ]
        }
      ]
    }
  ]
}